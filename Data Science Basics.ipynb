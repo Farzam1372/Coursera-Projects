{
 "cells": [
  {
   "cell_type": "markdown",
   "id": "6da1135c-15f7-440b-8eb4-a05ecdb8a076",
   "metadata": {},
   "source": [
    "## Data Science Basics\n",
    "\n",
    "-----\n",
    "\n"
   ]
  },
  {
   "cell_type": "markdown",
   "id": "e721aa8b-7478-4a66-83de-bfd8397d023e",
   "metadata": {},
   "source": [
    "## Introduction : This notebook introduces fundamental concepts in data science.\n",
    "---"
   ]
  },
  {
   "cell_type": "markdown",
   "id": "1e1beffd-d06e-47f6-a4ff-d4b6678a43c8",
   "metadata": {},
   "source": [
    "## Some of Data Science Languages\n",
    "## . Python\n",
    "## . R\n",
    "----"
   ]
  },
  {
   "cell_type": "markdown",
   "id": "dc911770-e5e8-4838-9dbb-ba1ce0fd1ad5",
   "metadata": {},
   "source": [
    "\n",
    "## Some of Data Science Libraries\n",
    "\n",
    "| Tool       | Description    |\n",
    "|------------|----------------|\n",
    "|  1         | NumPy          |\n",
    "|  2         | Pandas         |\n",
    "|  3         | Matplotlib     |\n",
    "result\n"
   ]
  },
  {
   "cell_type": "markdown",
   "id": "d70def67-6df6-4d8c-aa1c-206d61d4d5aa",
   "metadata": {},
   "source": [
    "----\n",
    "### Multiply and Add Numbers\n",
    "\n",
    "## A = 2\n",
    "## B = 3\n",
    "## product = A * B\n",
    "## sum_result = A + B\n",
    "## product, sum_result\n"
   ]
  },
  {
   "cell_type": "code",
   "execution_count": 2,
   "id": "db7deaee-1a22-4395-a821-78949f4837fc",
   "metadata": {},
   "outputs": [],
   "source": [
    "import pandas as pd"
   ]
  },
  {
   "cell_type": "code",
   "execution_count": 15,
   "id": "3481260b-3819-4256-8dc6-415ec1d12464",
   "metadata": {},
   "outputs": [
    {
     "name": "stdout",
     "output_type": "stream",
     "text": [
      "5\n"
     ]
    }
   ],
   "source": [
    "A = 2\n",
    "B = 3\n",
    "C = A+B \n",
    "print(C)"
   ]
  },
  {
   "cell_type": "code",
   "execution_count": 17,
   "id": "be89a42a-8b3a-4a30-bf92-2c913282f047",
   "metadata": {},
   "outputs": [
    {
     "name": "stdout",
     "output_type": "stream",
     "text": [
      "6\n"
     ]
    }
   ],
   "source": [
    "D = A * B\n",
    "print(D)"
   ]
  },
  {
   "cell_type": "code",
   "execution_count": null,
   "id": "2cf4018a-6264-460c-ad3c-99307ac2dcbb",
   "metadata": {},
   "outputs": [],
   "source": [
    "minutes = float(input(\"Enter the number of minutes: \"))\n",
    "hours = minutes / 60\n",
    "print(f\"{minutes} minutes is equal to {hours} hours\")\n"
   ]
  },
  {
   "cell_type": "markdown",
   "id": "575fbc9c-f9f6-4684-950d-6e0bb52a9a31",
   "metadata": {},
   "source": [
    "## Objectives\n",
    "----\n",
    "\n",
    "## 1. Introduction\n",
    "## 2. Importing library\n",
    "## 3. Add numbers and multiply\n",
    "## 4. Enter minutes want to convert from minutes to hours\n",
    "----"
   ]
  },
  {
   "cell_type": "markdown",
   "id": "a1b03134-c1a0-4c51-9a51-64259658c8a5",
   "metadata": {},
   "source": [
    "## Autors's name : \n",
    "\n",
    "##  Farzam Nazari\n",
    "\n",
    "----"
   ]
  },
  {
   "cell_type": "markdown",
   "id": "e4295b0c-240a-41d2-a55f-c1f3f6aeaf55",
   "metadata": {},
   "source": [
    "## GitHub : \n",
    "\n",
    "## https://github.com/Farzam1372\n",
    "\n",
    "---"
   ]
  },
  {
   "cell_type": "code",
   "execution_count": null,
   "id": "64d3c1b5-460e-413b-885d-e0f2b2d5a5ef",
   "metadata": {},
   "outputs": [],
   "source": []
  }
 ],
 "metadata": {
  "kernelspec": {
   "display_name": "Python 3 (ipykernel)",
   "language": "python",
   "name": "python3"
  },
  "language_info": {
   "codemirror_mode": {
    "name": "ipython",
    "version": 3
   },
   "file_extension": ".py",
   "mimetype": "text/x-python",
   "name": "python",
   "nbconvert_exporter": "python",
   "pygments_lexer": "ipython3",
   "version": "3.11.3"
  }
 },
 "nbformat": 4,
 "nbformat_minor": 5
}
